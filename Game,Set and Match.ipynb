{
 "cells": [
  {
   "cell_type": "markdown",
   "metadata": {},
   "source": [
    "Suponga que ha sido seleccionado para ayudar a Rafael Nadal para calcular la probabilidad de que gane un juego, un set o un partido.\n",
    "Como es sabido que usted es un científico conocedor de matemáticas y programación, se le darán dos trabajos:\n",
    "- Hallar una expresión (puede ser recursiva o iterativa) para calcular lo deseado. (3 pts)\n",
    "- Diseñar un algoritmo en base a su expresión para dar una respuesta para algún valor. (2 pts)\n",
    "\n",
    "Si es que no se acuerda de las reglas del tenis, las explicaremos en detalle:\n",
    "* Punto: Cada punto es iniciado por el servicio de alguno de los jugadores y cuando uno de los jugadores falle en realizar una jugada legal, pierde la anotación.\n",
    "\n",
    "* **Juego**: Cada juego tiene un sistema de puntuación de 15-30-40 con cada anotación y un sistema de *deuce* en el caso de un empate 40-40. El sistema en este caso señala que los puntos deben tener una diferencia de 2 entre sí para poder ganar, por lo que si un jugador hace una anotación más se va al D-40 y con otra del mismo, ganaría el juego. En el mismo caso, si es que el jugador rival obtiene un punto, entonces los puntajes regresan a 40-40.\n",
    "Algo como lo siguiente se daría: J1 anota. Puntuación: D-40. J2 anota. Puntuación: 40-40. J1 anota. Puntuación: D-40. J1 anota. Fin del juego, gana J1.\n",
    "\n",
    "* **Set**: Un jugador gana un set si es que gana al menos 6 juegos y lleva una ventaja a su rival de al menos 2 juegos. Al igual que en el caso del juego, se usa un sistema de *tiebreak* para determinar al ganador en el caso de que se llegue a dar una puntuación de 5-5. En este caso, gana el que llegue a 7-5. En el caso de que de 5-5 se vayan a 6-6, se usa el sistema **tie-break** de 12 puntos.\n",
    "\n",
    "* **Tiebreak (12 puntos)**: Con este juego se determina cuál de los dos jugadores será el ganador del set, en este juego especial se dan las mismas condiciones que en el juego simple, pero para poder ganar se deben realizar como mínimo 7 puntos y tener una ventaja de 2 como mínimo, usando el sistema de *deuce* del juego simple.\n",
    "\n",
    "* **Partido**: El ganador de un partido es el primero en ganar 2 sets.\n",
    "\n",
    "Rafael sabe que su probabilidad de obtener un punto es de *p* sin importar si es él el que sirve o no."
   ]
  },
  {
   "cell_type": "code",
   "execution_count": 1,
   "metadata": {
    "collapsed": false
   },
   "outputs": [
    {
     "name": "stdout",
     "output_type": "stream",
     "text": [
      "x=0.09921103448 y=0.00016770463 z=0.00000008437"
     ]
    }
   ],
   "source": [
    "# Solucion: "
    "p <- 0.3 # Inicializar la probabilidad de un punto\n",
    "juegos <- 0.0 # Inicializar la probabilidad de ganar un juego\n",
    "sets <- 0.0 # Inicializar la probabilidad de ganar un set\n",
    "partidos <- 0.0 # Inicializar la probabilidad de ganar un partido\n",
    "tiebreak <- 0.0 # Inicializar la probabilidad de ganar el tiebreak\n",
    "tablaj <- matrix(0,nrow = 13,ncol=13) # Tabla para el DP para juegos\n",
    "visj <- matrix(F,nrow = 13,ncol=13) # Tabla de estado visitado para el DP para juegos\n",
    "tablas <- matrix(0,nrow = 7, ncol = 7) # Tabla para el DP para sets\n",
    "viss <- matrix(F,nrow = 13,ncol=13) # Tabla de estado visitado para el DP para sets\n",
    "\n",
    "# Se transforman los estados de i,j -> i+1,j+1 para que no haya contradiccion con los indices\n",
    "# Los casos base (0,0) se transforman a (1,1) y se les asigna 1.0 como valor trivial de multiplicacion\n",
    "\n",
    "dpj <- function(win, lose){\n",
    "    if(win==1 && lose==1){ # Caso base\n",
    "        return(1.0)\n",
    "    }\n",
    "    if(visj[win,lose]){ # Si ya se visito el estado\n",
    "        return(tablaj[win,lose]) # Devolver el valor ya calculado\n",
    "    }\n",
    "    ans = 0.0 # Inicializar respuesta para este estado\n",
    "    if(win == 1){ # Si no hay posibilidad de ganar mas puntos\n",
    "        ans = ans + (1-p)*dpj(win,lose-1) # Se prueba solo con la probabilidad de perderlos\n",
    "    } else if (lose == 1){ # Si no hay posibilidad de perder mas puntos\n",
    "        ans = ans + p*dpj(win-1,lose) # Se prueba solo con la probabilidad de ganarlos\n",
    "    } else{ # Si no son nulos\n",
    "        ans = ans + p*dpj(win-1,lose)+(1-p)*dpj(win,lose-1) # Se prueba con la probabilidad de ganarlos o de perderlos hasta acabar todo\n",
    "    }\n",
    "    visj[win,lose] = T # Señalamos que el estado ya fue visitado\n",
    "    tablaj[win,lose] = ans # Almacenamos la respuesta\n",
    "    return(ans) # Devolvemos la respuesta\n",
    "}\n",
    "\n",
    "dps <- function(win, lose){\n",
    "    if(win==1 && lose==1){  # Caso base\n",
    "        return(1.0)\n",
    "    }\n",
    "    if(viss[win,lose]){ # Si ya se visito el estado\n",
    "        return(tablas[win,lose]) # Devolver el valor ya calculado\n",
    "    }\n",
    "    ans = 0.0 # Inicializar respuesta para este estado\n",
    "    if(win == 1){ # Si no hay posibilidad de ganar mas juegos\n",
    "        ans = ans + (1-juegos)*dps(win,lose-1) # Se prueba solo con la probabilidad de perderlos\n",
    "    } else if (lose == 1){ # Si no hay posibilidad de perder mas juegos\n",
    "        ans = ans + juegos*dps(win-1,lose) # Se prueba solo con la probabilidad de ganarlos\n",
    "    } else{ # Si no son nulos\n",
    "        ans = ans + juegos*dps(win-1,lose)+(1-juegos)*dps(win,lose-1) # Se prueba con la probabilidad de ganarlos o de perderlos hasta acabar todo\n",
    "    }\n",
    "    viss[win,lose] = T # Señalamos que el estado ya fue visitado\n",
    "    tablas[win,lose] = ans # Almacenamos la respuesta\n",
    "    return(ans) # Devolvemos la respuesta\n",
    "}\n",
    "\n",
    "# Combinaciones para ganar en un juego: \n",
    "# 3, 0 y hacer el siguiente punto -> 4,1\n",
    "# 3, 1 y hacer el siguiente punto -> 4,2\n",
    "# 3, 2 y hacer el siguiente punto -> 4,3\n",
    "# 3, 3 y hacer los dos siguientes puntos O hacer 1 punto, perder otro y verificar la probabilidad de ganar en el caso 4,4\n",
    "# En esta ultima tenemos la probabilidad de ganar en deuce con x puntos denotada por P(d(x)), entonces se nos da la igualdad:\n",
    "# P(d(3)) = p*p + p*(1-p)*P(d(4)) + (1-p)*p*P(d(4))  -> El primer término se refiere a ganar 5-3, el segundo a la sucesion 3,3->4,3->4,4 y el ultimo a la sucesion 3,3->3,4->4,4 y el deuce en 4,4.\n",
    "# Como el deuce no depende del valor actual de los puntos (3,3) tiene las mismas probabilidades que (4,4), entonces P(d(x)) = P(deuce):\n",
    "# P(deuce) = p*p + 2*p*(1-p)*P(deuce) \n",
    "# P(deuce)*(1-2*p+2*p*p) = p*p\n",
    "# P(deuce) =  p*p / (1-2*p+2*p*p)\n",
    "\n",
    "for (i in c(1:3)){ # 3 primeras combinaciones\n",
    "\tjuegos = juegos + p*dpj(4,i)\n",
    "}\n",
    "juegos = juegos + dpj(4,4)*p*p/(2*p*p-2*p+1) # 4ta combinacion\n",
    "# Combinaciones para ganar en un set: \n",
    "# 5, 0 y hacer el siguiente punto -> 6,1\n",
    "# 5, 1 y hacer el siguiente punto -> 6,2\n",
    "# 5, 2 y hacer el siguiente punto -> 6,3\n",
    "# 5, 3 y hacer el siguiente punto -> 6,4\n",
    "# 5, 4 y hacer el siguiente punto -> 6,5\n",
    "# 5, 5 y hacer los dos siguientes puntos O hacer un punto, perder otro y verificar la probabilidad de ganar el tiebreak.\n",
    "# El caso del TIEBREAK es similar a ganar un juego, pero en vez de 3 al inicio, se da con 6.\n",
    "# Probabilidad de la 6ta combinacion se da como\n",
    "# P = P(5,5)*juego*juego + P(5,5)*2*juego*(1-juego)*tiebreak\n",
    "\n",
    "for (i in c(1:5)){ # Primeros 5 casos\n",
    "\tsets = sets + juegos*dps(6,i)\n",
    "}\n",
    "for (i in c(1:6)){ # Calculo del tiebreak para sus primeros 6 casos\n",
    "    tiebreak = tiebreak + p*dpj(7,i)\n",
    "}\n",
    "tiebreak = tiebreak + dpj(7,7)*p*p/(2*p*p-2*p+1) # Tiebreak como la 4ta combinacion de juego\n",
    "sets = sets + dps(6,6)*(juegos*juegos + 2*juegos*(1-juegos)*tiebreak) # 6ta combinacion para set\n",
    "partidos = sets*sets + 2*sets*sets*(1-sets) # Secuencias 0,0->1,0->2,0 ; 0,0->1,0->1,1->2,1 ; 0,0->0,1->1,1->2,1\n",
    "cat(sprintf(c(\"x=%.11f\", \"y=%.11f\",\"z=%.11f\"), c(juegos,sets,partidos)), sep=\" \") # Imprimimos los valores de cada respuesta"
   ]
  },
  {
   "cell_type": "code",
   "execution_count": null,
   "metadata": {
    "collapsed": true
   },
   "outputs": [],
   "source": []
  }
 ],
 "metadata": {
  "kernelspec": {
   "display_name": "R",
   "language": "R",
   "name": "ir"
  },
  "language_info": {
   "codemirror_mode": "r",
   "file_extension": ".r",
   "mimetype": "text/x-r-source",
   "name": "R",
   "pygments_lexer": "r",
   "version": "3.3.1"
  }
 },
 "nbformat": 4,
 "nbformat_minor": 1
}
